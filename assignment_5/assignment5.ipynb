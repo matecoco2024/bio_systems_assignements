{
 "cells": [
  {
   "cell_type": "markdown",
   "id": "9569d8e3",
   "metadata": {},
   "source": [
    "Assignment 5"
   ]
  }
 ],
 "metadata": {
  "language_info": {
   "name": "python"
  }
 },
 "nbformat": 4,
 "nbformat_minor": 5
}
