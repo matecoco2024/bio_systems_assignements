{
 "cells": [
  {
   "cell_type": "markdown",
   "id": "11687ea3",
   "metadata": {},
   "source": [
    "# Assignement 1 - Bio systems"
   ]
  },
  {
   "cell_type": "markdown",
   "id": "2f67a1f5",
   "metadata": {},
   "source": [
    "### Task 1 - Visualize the reaction maximal activity data on the ESCHER map of the E. coli core model. For this we use the non-interactive version:https://escher.github.io/#/app?map=e_coli_core.Core%20metabolism&tool=Builder&scrollToZoom=true&model=e_coli_core. In order to load the data, go to “Data 🡪 “Load reaction data” and load the file. The data will then be visualized in the same way that we inspected actual flux predictions in the interactive session in Week 1."
   ]
  },
  {
   "cell_type": "markdown",
   "id": "4e08c938",
   "metadata": {},
   "source": [
    "-----------------------------------------------------------\n",
    "#### a) In the interactive session, we saw reaction fluxes in a linear pathway being equal to each other due to mass balance constraints. Do you observe the same thing now for the maximal reaction activities? Explain your observations. [5 pt] "
   ]
  },
  {
   "cell_type": "markdown",
   "id": "f97b98c1",
   "metadata": {},
   "source": [
    "<img src=\"ss_mm.png\" width=\"50%\">\n"
   ]
  },
  {
   "cell_type": "markdown",
   "id": "7bc63281",
   "metadata": {},
   "source": [
    "answer: we are using the .csv file to attribute individually to every reaction its own maximum possible flux value (upper balance), which is different than the steady-state flux demo we were playing with in the interactive session, in which linear pathways showed equal flux values due to mass balance constraints"
   ]
  },
  {
   "cell_type": "markdown",
   "id": "e9fbc58c",
   "metadata": {},
   "source": [
    "-----------------------------------------------------------------------------\n",
    "#### b) Some reactions have no maximal reaction activity data. Identify at least two different kinds of such reactions, and explain why gene expression-derived data would not be applicable for these kinds of reactions. [5 pt]\n",
    "\n",
    "answer:\n",
    "\n",
    "two examples of reactions missing from the maximal reaction activity data:\n",
    "\n",
    "**1.EX_glc__D_e (D-Glucose exchange/uptake)**\n",
    "\n",
    "Why no gene expression data: This reaction is an exchange reaction, that represents a system boundary in the metabolic model, not a specific enzymatic reaction. It defines the interface between the extracellular compartment and the cellular one. While actual glucose transport involves specific transporters, the exchange reaction is purely a mathematical construct.\n",
    "\n",
    "Gene association: Has zero associated genes because it's a model boundary condition, not a biochemical reaction catalyzed by a specific enzyme.\n",
    "\n",
    "**2.ATPM (ATP maintenance requirement)**\n",
    "\n",
    "Why no gene expression data: This reaction represents the overall cellular energy cost for maintaining basic cellular functions (protein turnover, DNA repair, etc) It's not catalyzed by a single enzyme, it just represents the overall ATP consumption from hundreds of different maintenance processes occurring simultaneously in the cell.\n",
    "Gene association: Has zero associated genes because it's a mathematical representation of energy drain rather than a specific enzymatic reaction. You cannot measure gene expression for \"cellular maintenance\" as a whole - it's the sum of many different processes.\n",
    "\n",
    "\n",
    "In conclusion: Gene expression-derived data can only be applied to reactions that are catalyzed by specific enzymes encoded by identifiable genes."
   ]
  },
  {
   "cell_type": "markdown",
   "id": "1c61d8cb",
   "metadata": {},
   "source": [
    "---------------------------------------------------------------------------\n",
    "### Task 2 - We will now establish an enzyme activity-constrained metabolic model in COBRApy. Please implement the maximal reaction activity data in the E. coli core model from the practical per the below instructions."
   ]
  },
  {
   "cell_type": "code",
   "execution_count": 1,
   "id": "a328fbe843251b4b",
   "metadata": {
    "ExecuteTime": {
     "end_time": "2025-09-08T14:08:55.219341Z",
     "start_time": "2025-09-08T14:08:46.494253Z"
    }
   },
   "outputs": [
    {
     "name": "stdout",
     "output_type": "stream",
     "text": [
      "           # Reaction ID  Lower Bound  Upper Bound\n",
      "                   ACALD        -1.16         1.16\n",
      "                  ACALDt        -2.29         2.29\n",
      "                    ACKr        -1.19         1.19\n",
      "                  ACONTa       -25.35        25.35\n",
      "                  ACONTb       -25.35        25.35\n",
      "                   ACt2r        -3.23         3.23\n",
      "                    ADK1       -30.57        30.57\n",
      "                   AKGDH            0        24.35\n",
      "                  AKGt2r         -3.1          3.1\n",
      "                  ALCD2x        -9.01         9.01\n",
      "                    ATPM         8.39        1,000\n",
      "                  ATPS4r        -60.5         60.5\n",
      "BIOMASS_Ecoli_core_w_GAM            0        1,000\n",
      "                    CO2t       -30.45        30.45\n",
      "                      CS            0        20.56\n",
      "                   CYTBD            0        40.56\n",
      "                 D_LACt2        -4.56         4.56\n",
      "                     ENO       -28.78        28.78\n",
      "                 ETOHt2r        -2.34         2.34\n",
      "                 EX_ac_e            0        1,000\n",
      "              EX_acald_e            0        1,000\n",
      "                EX_akg_e            0        1,000\n",
      "                EX_co2_e       -1,000        1,000\n",
      "               EX_etoh_e            0        1,000\n",
      "                EX_for_e            0        1,000\n",
      "                EX_fru_e            0        1,000\n",
      "                EX_fum_e            0        1,000\n",
      "             EX_glc__D_e       -1,000        1,000\n",
      "             EX_gln__L_e            0        1,000\n",
      "             EX_glu__L_e            0        1,000\n",
      "                EX_h2o_e       -1,000        1,000\n",
      "                  EX_h_e       -1,000        1,000\n",
      "             EX_lac__D_e            0        1,000\n",
      "             EX_mal__L_e            0        1,000\n",
      "                EX_nh4_e       -1,000        1,000\n",
      "                 EX_o2_e       -1,000        1,000\n",
      "                 EX_pi_e       -1,000        1,000\n",
      "                EX_pyr_e            0        1,000\n",
      "               EX_succ_e            0        1,000\n",
      "                     FBA       -24.45        24.45\n",
      "                     FBP            0         2.35\n",
      "                    FORt       -1,000            0\n",
      "                   FORt2            0         1.28\n",
      "                    FRD7            0        20.07\n",
      "                 FRUpts2            0        10.08\n",
      "                     FUM       -24.35        24.35\n",
      "                 FUMt2_2            0         2.45\n",
      "                 G6PDH2r        -5.68         5.68\n",
      "                    GAPD       -26.13        26.13\n",
      "                  GLCpts            0        16.34\n",
      "                    GLNS            0         3.45\n",
      "                  GLNabc            0         0.25\n",
      "                   GLUDy        -7.35         7.35\n",
      "                    GLUN            0         6.25\n",
      "                   GLUSy            0         7.35\n",
      "                  GLUt2r        -4.12         4.12\n",
      "                     GND            0         6.72\n",
      "                    H2Ot       -20.06        20.06\n",
      "                  ICDHyr       -15.06        15.06\n",
      "                     ICL            0        14.07\n",
      "                   LDH_D        -2.07         2.07\n",
      "                    MALS            0         9.12\n",
      "                 MALt2_2            0         8.87\n",
      "                     MDH        -4.26         4.26\n",
      "                     ME1            0         3.24\n",
      "                     ME2            0         3.34\n",
      "                  NADH16            0        20.26\n",
      "                 NADTRHD            0         1.26\n",
      "                    NH4t        -3.45         3.45\n",
      "                     O2t       -40.67        40.67\n",
      "                     PDH            0        32.32\n",
      "                     PFK            0        12.12\n",
      "                     PFL            0            1\n",
      "                     PGI       -13.12        13.12\n",
      "                     PGK       -23.13        23.13\n",
      "                     PGL            0         8.12\n",
      "                     PGM       -20.01        20.01\n",
      "                   PIt2r        -6.03         6.03\n",
      "                     PPC            0         2.56\n",
      "                    PPCK            0        25.23\n",
      "                     PPS            0          2.5\n",
      "                    PTAr        -4.47         4.47\n",
      "                     PYK            0        26.78\n",
      "                   PYRt2        -1.26         1.26\n",
      "                     RPE        -5.67         5.67\n",
      "                     RPI        -5.56         5.56\n",
      "                SUCCt2_2            0         2.36\n",
      "                  SUCCt3            0         6.67\n",
      "                   SUCDi            0        24.34\n",
      "                  SUCOAS        -20.6         20.6\n",
      "                    TALA        -4.45         4.45\n",
      "                    THD2            0          4.5\n",
      "                    TKT1        -3.34         3.34\n",
      "                    TKT2        -3.34         3.34\n",
      "                     TPI       -45.56        45.56\n"
     ]
    }
   ],
   "source": [
    "import cobra\n",
    "import pandas as pd\n",
    "##!!!!dont forget to updae the path names according to yourselves!!!!\n",
    "model = cobra.io.load_json_model('e_coli_core.json')\n",
    "activity_df = pd.read_csv('e_coli_core_expression.csv')\n",
    "\n",
    "#strip the csv a little\n",
    "activity_df.columns = [c.strip() for c in activity_df.columns]\n",
    "#kept the original bounds so that when we run the model again we dont use the modified bounds\n",
    "#(in edge cases like ATPM or glucose exchange we wanna consider their original definition not a modified one)\n",
    "orig_bounds = {reaction.id: (reaction.lower_bound, reaction.upper_bound) for reaction in model.reactions}\n",
    "\n",
    "# QUESTION 2: Apply the instructions\n",
    "for reaction in model.reactions:\n",
    "    r_id = reaction.id\n",
    "\n",
    "    ##consider edge cases first before applying the general rule because if not they’d get overridden like normal reactions which would not make sense biologically\n",
    "    #Special case: glucose exchange\n",
    "    if r_id == \"EX_glc__D_e\":\n",
    "        reaction.lower_bound = -1000.0\n",
    "        reaction.upper_bound = 1000.0\n",
    "        continue\n",
    "\n",
    "    #check if the reaction is in the CSV, if not return an empty. (if returned empty: no activity data for this reaction -≥ leave defaults unchanged)\n",
    "    match = activity_df.loc[activity_df[\"# Reaction ID\"] == r_id, \"reaction activity [mmol/gDW/h]\"]\n",
    "\n",
    "    if not match.empty:\n",
    "        value = abs(float(match.values[0]))  #force non-negative\n",
    "        lb0, ub0 = orig_bounds[r_id]       #original bounds for (ir)reversability\n",
    "\n",
    "        #Special case: ATPM\n",
    "        if r_id == \"ATPM\":\n",
    "            # Keep lower bound as-is, only cap upper bound\n",
    "            reaction.upper_bound = value\n",
    "            continue\n",
    "\n",
    "        #Decide on the constraints based on original directionality\n",
    "        if lb0 < 0 and ub0 > 0:         # reversible\n",
    "            reaction.lower_bound = -value\n",
    "            reaction.upper_bound = value\n",
    "        elif lb0 >= 0 and ub0 > 0:      # forward-only irreversible\n",
    "            reaction.lower_bound = 0.0\n",
    "            reaction.upper_bound = value\n",
    "        ##elif lb0 < 0 and ub0 <= 0:      # reverse-only irreversible (not sure if we are supposed to consider this as well for the irreversible direction)\n",
    "            ##reaction.lower_bound = -value\n",
    "            ##reaction.upper_bound = 0.0\n",
    "        else: #this would be the degenerate case (lb==ub, blocked, etc.)\n",
    "            pass\n",
    "\n",
    "#gatyher the results in df\n",
    "bounds_df = pd.DataFrame(\n",
    "    [(reaction.id, float(reaction.lower_bound), float(reaction.upper_bound)) for reaction in model.reactions],\n",
    "    columns=[\"# Reaction ID\", \"Lower Bound\", \"Upper Bound\"]\n",
    ").sort_values(\"# Reaction ID\").reset_index(drop=True)\n",
    "\n",
    "pd.set_option(\"display.max_rows\", None)\n",
    "pd.set_option(\"display.float_format\", \"{:,.6g}\".format)\n",
    "print(bounds_df.to_string(index=False))\n",
    "\n",
    "## DISCLAIMER: USE OF GENERATIVE AI\n",
    "#used AI to strip the csv and preserve the original bounds of the model"
   ]
  },
  {
   "cell_type": "markdown",
   "id": "da07b401ad02e03e",
   "metadata": {},
   "source": [
    "---------------------------------------------------------------------------\n",
    "### Task 3 - In addition to maximizing reaction rate (“flux”) through some reaction of biological interest, like the biomass reaction, we can use Flux Balance Analysis (FBA) optimizations also to ask: What are the smallest and largest fluxes possible per reaction, given all present constraints in the network? This is known as “Flux Variabiliry Analysis” or FVA. In FVA, we loop over every reaction of interest and once maximize and once minimize its flux via FBA; thus obtaining the permissible flux range for each reaction in the model."
   ]
  },
  {
   "cell_type": "markdown",
   "id": "879af8ac",
   "metadata": {},
   "source": [
    "a) Carry out an FVA for all reactions in the model and print out the resulting minimal and maximal fluxes per reaction (simple printout sufficient)"
   ]
  },
  {
   "cell_type": "code",
   "execution_count": 2,
   "id": "a3b06dd8",
   "metadata": {},
   "outputs": [
    {
     "name": "stdout",
     "output_type": "stream",
     "text": [
      "                              minimum      maximum\n",
      "PFK                          0.334677      11.1536\n",
      "PFL                                 0            1\n",
      "PGI                        -0.0853226      9.02035\n",
      "PGK                           -17.596    -0.879355\n",
      "PGL                                 0      4.52239\n",
      "ACALD                           -1.16            0\n",
      "AKGt2r                           -3.1            0\n",
      "PGM                          -17.0389    -0.879355\n",
      "PIt2r                     4.78153e-15      1.78308\n",
      "ALCD2x                          -1.16 -7.65727e-17\n",
      "ACALDt                          -1.16            0\n",
      "ACKr                            -1.19            0\n",
      "PPC                                 0         2.56\n",
      "ACONTa                              0      5.77556\n",
      "ACONTb                              0      5.77556\n",
      "ATPM                             8.39      39.9838\n",
      "PPCK                                0         4.69\n",
      "ACt2r                           -1.19            0\n",
      "PPS                                 0          2.5\n",
      "ADK1                                0          2.5\n",
      "AKGDH                               0      4.12604\n",
      "ATPS4r                       0.426667       27.641\n",
      "PTAr                                0         1.19\n",
      "PYK                                 0        9.232\n",
      "BIOMASS_Ecoli_core_w_GAM            0     0.484703\n",
      "PYRt2                           -1.26            0\n",
      "CO2t                         -13.6748      1.61533\n",
      "RPE                         -0.346202      2.68857\n",
      "CS                       -4.55545e-16      5.77556\n",
      "RPI                          -1.83382            0\n",
      "SUCCt2_2                            0         2.36\n",
      "CYTBD                               1       24.512\n",
      "D_LACt2                         -2.07            0\n",
      "ENO                          0.879355      17.0389\n",
      "SUCCt3                              0         6.67\n",
      "ETOHt2r                         -1.16            0\n",
      "SUCDi                               0       24.322\n",
      "SUCOAS                       -4.12604            0\n",
      "TALA                       -0.0861652      1.42624\n",
      "THD2                                0          4.5\n",
      "TKT1                       -0.0861652      1.42624\n",
      "TKT2                        -0.260037      1.26233\n",
      "TPI                          0.334677      8.80356\n",
      "EX_ac_e                             0         1.19\n",
      "EX_acald_e                          0         1.16\n",
      "EX_akg_e                            0          3.1\n",
      "EX_co2_e                     -1.61533      13.6748\n",
      "EX_etoh_e                           0         1.16\n",
      "EX_for_e                            0            1\n",
      "EX_fru_e                            0            0\n",
      "EX_fum_e                            0            0\n",
      "EX_glc__D_e                   -9.4933    -0.479429\n",
      "EX_gln__L_e                         0            0\n",
      "EX_glu__L_e                         0         3.45\n",
      "EX_h_e                    1.20129e-14      21.8022\n",
      "EX_h2o_e                        0.538      18.5909\n",
      "EX_lac__D_e                         0         2.07\n",
      "EX_mal__L_e                         0            0\n",
      "EX_nh4_e                        -3.45 -3.14537e-15\n",
      "EX_o2_e                       -12.256         -0.5\n",
      "EX_pi_e                      -1.78308  9.92646e-16\n",
      "EX_pyr_e                            0         1.26\n",
      "EX_succ_e                           0         6.67\n",
      "FBA                          0.334677      8.80356\n",
      "FBP                                 0         2.35\n",
      "FORt2                               0         1.28\n",
      "FORt                            -2.28            0\n",
      "FRD7                                0        20.07\n",
      "FRUpts2                             0            0\n",
      "FUM                             -2.56        4.252\n",
      "FUMt2_2                             0            0\n",
      "G6PDH2r                             0      4.52239\n",
      "GAPD                         0.879355       17.596\n",
      "GLCpts                       0.479429       9.4933\n",
      "GLNS                                0         3.45\n",
      "GLNabc                              0            0\n",
      "GLUDy                           -3.45         3.45\n",
      "GLUN                                0         3.45\n",
      "GLUSy                               0         3.45\n",
      "GLUt2r                          -3.45            0\n",
      "GND                                 0      4.52239\n",
      "H2Ot                         -18.5909       -0.538\n",
      "ICDHyr                    7.97411e-16      5.20213\n",
      "ICL                                 0        4.252\n",
      "LDH_D                           -2.07            0\n",
      "MALS                                0        4.252\n",
      "MALt2_2                             0            0\n",
      "MDH                             -2.56         4.26\n",
      "ME1                                 0         3.24\n",
      "ME2                                 0         3.34\n",
      "NADH16                        1.83111        20.26\n",
      "NADTRHD                             0         1.26\n",
      "NH4t                      1.20799e-16         3.45\n",
      "O2t                               0.5       12.256\n",
      "PDH                                 0      10.9311\n"
     ]
    }
   ],
   "source": [
    "fva =cobra.flux_analysis.variability.flux_variability_analysis(model =model, reaction_list = model.reactions, loopless = False, fraction_of_optimum = 0.0)\n",
    "pd.set_option(\"display.max_rows\", None)\n",
    "print(fva)"
   ]
  },
  {
   "cell_type": "markdown",
   "id": "a65124de",
   "metadata": {},
   "source": [
    "b) Identify any reactions with gene expression-imposed maximal reaction activities, whose permissible\n",
    "flux range in forward direction is nonzero yet comes out less than its upper flux bound. State their number and explain why a set of reactions behaves this way. (You can ignore reaction FORt here which as seen\n",
    "in the practical has a nonconventional direction definition.) [15 pt]"
   ]
  },
  {
   "cell_type": "code",
   "execution_count": 3,
   "id": "e90ed9af",
   "metadata": {},
   "outputs": [
    {
     "name": "stdout",
     "output_type": "stream",
     "text": [
      "    reaction    min flux  max flux  upper bound\n",
      "0        PFK    0.334677   11.1536        12.12\n",
      "1      PIt2r 4.78153e-15   1.78308         6.03\n",
      "2       ATPM        8.39   39.9838        1,000\n",
      "3     ATPS4r    0.426667    27.641         60.5\n",
      "4      CYTBD           1    24.512        40.56\n",
      "5        ENO    0.879355   17.0389        28.78\n",
      "6        TPI    0.334677   8.80356        45.56\n",
      "7     EX_h_e 1.20129e-14   21.8022        1,000\n",
      "8   EX_h2o_e       0.538   18.5909        1,000\n",
      "9        FBA    0.334677   8.80356        24.45\n",
      "10      GAPD    0.879355    17.596        26.13\n",
      "11    GLCpts    0.479429    9.4933        16.34\n",
      "12    ICDHyr 7.97411e-16   5.20213        15.06\n",
      "13       O2t         0.5    12.256        40.67\n",
      "In total 14 reactions\n"
     ]
    }
   ],
   "source": [
    "reac=[]\n",
    "for reaction in model.reactions:\n",
    "    min_flux = fva.loc[reaction.id, \"minimum\"]\n",
    "    max_flux = fva.loc[reaction.id, \"maximum\"]\n",
    "    if min_flux>0 and max_flux<reaction.upper_bound:\n",
    "        reac.append((reaction.id, min_flux, max_flux, reaction.upper_bound ))\n",
    "reac_df = pd.DataFrame(reac, columns=[\"reaction\", \"min flux\", \"max flux\", \"upper bound\"])\n",
    "print(reac_df)\n",
    "print(f\"In total {len(reac_df)} reactions\")"
   ]
  },
  {
   "cell_type": "markdown",
   "id": "54bfddbd",
   "metadata": {},
   "source": [
    "Answer:\n",
    "If the gene encoding the enzyme for a reaction is expressed at low levels, less enzyme is synthesized. As a result, the limited enzyme availability becomes a bottleneck. While the reaction can proceed at a non-zero rate, it will always be constrained below its maximum potential (upper flux bound) due to insufficient enzyme capacity to handle the flux."
   ]
  },
  {
   "cell_type": "markdown",
   "id": "549930bd",
   "metadata": {},
   "source": [
    "c) How many reactions have a positive minimal flux in the FVA? State their number and explain why a\n",
    "set of reactions behaves this way. [15 pt]\n"
   ]
  },
  {
   "cell_type": "code",
   "execution_count": 4,
   "id": "4f37d1ac",
   "metadata": {},
   "outputs": [
    {
     "name": "stdout",
     "output_type": "stream",
     "text": [
      "['PFK', 'PIt2r', 'ATPM', 'ATPS4r', 'CYTBD', 'ENO', 'TPI', 'EX_h_e', 'EX_h2o_e', 'FBA', 'GAPD', 'GLCpts', 'ICDHyr', 'NADH16', 'NH4t', 'O2t']\n",
      "Number of reactions with positive minimal flux:16\n"
     ]
    }
   ],
   "source": [
    "positive_min_flux = []\n",
    "for reaction in model.reactions:\n",
    "    min_flux = fva.loc[reaction.id, \"minimum\"]\n",
    "    if min_flux>0:\n",
    "        positive_min_flux.append(reaction.id)\n",
    "\n",
    "print(positive_min_flux)\n",
    "print(f\"Number of reactions with positive minimal flux:{len(positive_min_flux)}\")"
   ]
  },
  {
   "cell_type": "markdown",
   "id": "e5274faa",
   "metadata": {},
   "source": [
    "Answer:\n",
    "A set of reactions that exhibit such behavior may be necessary to maintain critical cellular functions, such as metabolic balance, production of vital metabolites, or regulation of essential biochemical processes. As a result, these reactions are forced to maintain a positive flow even under minimal conditions so that the cell can continue to perform these important tasks."
   ]
  },
  {
   "cell_type": "markdown",
   "id": "2dc89337",
   "metadata": {},
   "source": [
    "---------------------------------------------------------------------------\n",
    "### Task 4 - FBA optimization of biomass"
   ]
  },
  {
   "cell_type": "markdown",
   "id": "9971ebaa",
   "metadata": {},
   "source": [
    "a) Carry out an FBA optimization of biomass and report the maximal biomass production rate in the presence of the implemented constraints. \n"
   ]
  },
  {
   "cell_type": "code",
   "execution_count": 16,
   "id": "6a18629c",
   "metadata": {},
   "outputs": [
    {
     "name": "stdout",
     "output_type": "stream",
     "text": [
      "The maximal biomass production rate is: 0.48470309797054556\n"
     ]
    }
   ],
   "source": [
    "solution = model.optimize() #default is biomass optimization\n",
    "\n",
    "print(f\"The maximal biomass production rate is: {solution.objective_value}\")"
   ]
  },
  {
   "cell_type": "markdown",
   "id": "9de292c2",
   "metadata": {},
   "source": [
    "b) Determine the “bottleneck(s)” – i. e. those reaction(s) whose flux reaches its maximum."
   ]
  },
  {
   "cell_type": "code",
   "execution_count": null,
   "id": "57e84c03",
   "metadata": {},
   "outputs": [
    {
     "name": "stdout",
     "output_type": "stream",
     "text": [
      "      reaction  optimized flux  maximum posisble flux\n",
      "0          PFL               1                      1\n",
      "1         PTAr            1.19                   1.19\n",
      "2         THD2             4.5                    4.5\n",
      "3      EX_ac_e            1.19                   1.19\n",
      "4    EX_etoh_e            1.16                   1.16\n",
      "5     EX_for_e               1                      1\n",
      "6  EX_lac__D_e            2.07                   2.07\n",
      "7     EX_pyr_e            1.26                   1.26\n",
      "8       NADH16           20.26                  20.26\n",
      "  reaction  optimized flux  minimum posisble flux\n",
      "0    ACALD           -1.16                  -1.16\n",
      "1   ALCD2x           -1.16                  -1.16\n",
      "2     ACKr           -1.19                  -1.19\n",
      "3     ATPM            8.39                   8.39\n",
      "4    ACt2r           -1.19                  -1.19\n",
      "5    PYRt2           -1.26                  -1.26\n",
      "6  D_LACt2           -2.07                  -2.07\n",
      "7  ETOHt2r           -1.16                  -1.16\n",
      "8    LDH_D           -2.07                  -2.07\n"
     ]
    }
   ],
   "source": [
    "bottlenecks = []\n",
    "\n",
    "for reac in model.reactions:\n",
    "    max_flux = fva.loc[reac.id, 'maximum']\n",
    "    if solution.fluxes[reac.id] == max_flux and max_flux != 0: #remove reaction that are always negative\n",
    "        bottlenecks.append((reac.id, solution.fluxes[reac.id], max_flux))\n",
    "bottlenecks_df = pd.DataFrame(bottlenecks, columns=[\"reaction\", \"optimized flux\", \"maximum posisble flux\"])\n",
    "print(bottlenecks_df)\n",
    "\n",
    "#not sure if this is needed but reactions with a negative flux can also be a bottle neck \n",
    "bottlenecks_min= []\n",
    "for reac in model.reactions:\n",
    "    min_flux = fva.loc[reac.id, 'minimum']\n",
    "    if solution.fluxes[reac.id] == min_flux and min_flux != 0: #remove irreversible reactions\n",
    "        bottlenecks_min.append((reac.id, solution.fluxes[reac.id], min_flux))\n",
    "bottlenecks_min_df = pd.DataFrame(bottlenecks_min, columns=[\"reaction\", \"optimized flux\", \"minimum posisble flux\"])\n",
    "print(bottlenecks_min_df)"
   ]
  }
 ],
 "metadata": {
  "kernelspec": {
   "display_name": "base",
   "language": "python",
   "name": "python3"
  },
  "language_info": {
   "codemirror_mode": {
    "name": "ipython",
    "version": 3
   },
   "file_extension": ".py",
   "mimetype": "text/x-python",
   "name": "python",
   "nbconvert_exporter": "python",
   "pygments_lexer": "ipython3",
   "version": "3.13.5"
  }
 },
 "nbformat": 4,
 "nbformat_minor": 5
}
