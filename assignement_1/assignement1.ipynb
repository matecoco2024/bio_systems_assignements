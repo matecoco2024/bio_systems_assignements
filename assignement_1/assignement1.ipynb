{
 "cells": [
  {
   "cell_type": "markdown",
   "id": "11687ea3",
   "metadata": {},
   "source": [
    "# Assignement 1 - Bio systems"
   ]
  },
  {
   "cell_type": "markdown",
   "id": "2f67a1f5",
   "metadata": {},
   "source": [
    "### Task 1 - Visualize the reaction maximal activity data on the ESCHER map of the E. coli core model. For this we use the non-interactive version:https://escher.github.io/#/app?map=e_coli_core.Core%20metabolism&tool=Builder&scrollToZoom=true&model=e_coli_core. In order to load the data, go to “Data 🡪 “Load reaction data” and load the file. The data will then be visualized in the same way that we inspected actual flux predictions in the interactive session in Week 1."
   ]
  },
  {
   "cell_type": "markdown",
   "id": "4e08c938",
   "metadata": {},
   "source": [
    "-----------------------------------------------------------\n",
    "#### a) In the interactive session, we saw reaction fluxes in a linear pathway being equal to each other due to mass balance constraints. Do you observe the same thing now for the maximal reaction activities? Explain your observations. [5 pt] "
   ]
  },
  {
   "cell_type": "markdown",
   "id": "f97b98c1",
   "metadata": {},
   "source": [
    "<img src=\"ss_mm.png\" width=\"50%\">\n"
   ]
  },
  {
   "cell_type": "markdown",
   "id": "7bc63281",
   "metadata": {},
   "source": [
    "answer: we are using the .csv file to attribute individually to every reaction its own maximum possible flux value (upper balance), which is different than the steady-state flux demo we were playing with in the interactive session, in which linear pathways showed equal flux values due to mass balance constraints"
   ]
  },
  {
   "cell_type": "markdown",
   "id": "e9fbc58c",
   "metadata": {},
   "source": [
    "-----------------------------------------------------------------------------\n",
    "#### b) Some reactions have no maximal reaction activity data. Identify at least two different kinds of such reactions, and explain why gene expression-derived data would not be applicable for these kinds of reactions. [5 pt] "
   ]
  },
  {
   "cell_type": "markdown",
   "id": "f4e2035c",
   "metadata": {},
   "source": [
    "answer: \n",
    "\n",
    "two examples of reactions missing from the maximal reaction activity data:\n",
    "\n",
    "1. `EX_glc__D_e` (D-Glucose exchange/uptake)\n",
    "\n",
    "- **Why no gene expression data**: This reaction is an exchange reaction, that represents a system boundary in the metabolic model, not a specific enzymatic reaction. It defines the interface between the extracellular compartment and the cellular one. While actual glucose transport involves specific transporters, the exchange reaction is purely a mathematical construct.\n",
    "\n",
    "- **Gene association**: Has zero associated genes because it's a model boundary condition, not a biochemical reaction catalyzed by a specific enzyme.\n",
    "\n",
    "2. `ATPM` (ATP maintenance requirement)\n",
    "\n",
    "- **Why no gene expression data**: This reaction represents the overall cellular energy cost for maintaining basic cellular functions (protein turnover, DNA repair, etc) It's not catalyzed by a single enzyme, it just represents the overall ATP consumption from hundreds of different maintenance processes occurring simultaneously in the cell.\n",
    "- **Gene association**: Has zero associated genes because it's a mathematical representation of energy drain rather than a specific enzymatic reaction. You cannot measure gene expression for \"cellular maintenance\" as a whole - it's the sum of many different processes.\n",
    "\n",
    "In conclusion: Gene expression-derived data can only be applied to reactions that are catalyzed by specific enzymes encoded by identifiable genes."
   ]
  },
  {
   "cell_type": "markdown",
   "id": "1c61d8cb",
   "metadata": {},
   "source": [
    "---------------------------------------------------------------------------\n",
    "### Task 2 - We will now establish an enzyme activity-constrained metabolic model in COBRApy. Please implement the maximal reaction activity data in the E. coli core model from the practical per the below instructions. "
   ]
  }
 ],
 "metadata": {
  "kernelspec": {
   "display_name": "Python 3",
   "language": "python",
   "name": "python3"
  },
  "language_info": {
   "codemirror_mode": {
    "name": "ipython",
    "version": 3
   },
   "file_extension": ".py",
   "mimetype": "text/x-python",
   "name": "python",
   "nbconvert_exporter": "python",
   "pygments_lexer": "ipython3",
   "version": "3.11.9"
  }
 },
 "nbformat": 4,
 "nbformat_minor": 5
}
