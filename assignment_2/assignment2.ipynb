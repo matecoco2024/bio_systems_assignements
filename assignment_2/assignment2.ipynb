{
 "cells": [
  {
   "cell_type": "markdown",
   "id": "dbb10f44",
   "metadata": {},
   "source": [
    "Epidemiological Model Assignment - Parameter exploration\n",
    "\n",
    "Understanding disease dynamics\n",
    "Overview\n",
    "\n",
    "Duration: 3-5 hours\n",
    "Group size: 3-4 students\n",
    "Format: Jupyter Notebook\n",
    "Assessment: Repository setup (5%), Code quality (30%), Documentation (25%), Results interpretation (40%)\n",
    "\n",
    "This assignment focuses on systematic parameter exploration to understand how different factors affect epidemic outcomes."
   ]
  },
  {
   "cell_type": "markdown",
   "id": "1932487d",
   "metadata": {},
   "source": [
    "Setup and submission format\n",
    "Jupyter notebook structure\n",
    "\n",
    "Your submission should be a single notebook with the following sections:\n",
    "\n",
    "    Setup & Imports (provided starter code)\n",
    "    Part 1: Parameter Analysis Function\n",
    "    Part 2: Scenario Comparison\n",
    "    Part 3: Policy Recommendations\n",
    "    Conclusions\n"
   ]
  },
  {
   "cell_type": "markdown",
   "id": "a040cbee",
   "metadata": {},
   "source": [
    "Required Libraries"
   ]
  },
  {
   "cell_type": "code",
   "execution_count": 5,
   "id": "ce060eb6",
   "metadata": {},
   "outputs": [],
   "source": [
    "import numpy as np\n",
    "import matplotlib.pyplot as plt\n",
    "import pandas as pd\n",
    "from scipy.integrate import odeint\n",
    "import seaborn as sns"
   ]
  },
  {
   "cell_type": "markdown",
   "id": "f70e6401",
   "metadata": {},
   "source": [
    "Assignment task: Recovery rate investigation\n",
    "\n",
    "Using the SIRD model from your practical as a starting point, you will investigate how the recovery rate affects epidemic outcomes.\n",
    "Part 1: Parameter analysis function (50 points)\n",
    "\n",
    "Task: Create a function called analyze_recovery_rates() that systematically explores different recovery rates.\n",
    "1.1 Function implementation\n",
    "\n",
    "Create a well-documented function with the following signature:"
   ]
  },
  {
   "cell_type": "code",
   "execution_count": 8,
   "id": "28630eb0",
   "metadata": {},
   "outputs": [],
   "source": [
    "def sird_model(y, t, beta, gamma, mu):\n",
    "    S,I,R,D= y\n",
    "    N = S+I+R+D\n",
    "    dSdt = -beta * S * I / N\n",
    "    dIdt = (beta * S * I / N - gamma * I) - mu * I\n",
    "    dRdt = gamma * I\n",
    "    dDdt = mu * I\n",
    "    return dSdt, dIdt, dRdt, dDdt\n",
    "def run_sird_simulation(beta, gamma, mu, N=1000, I0=10, days=150):\n",
    "    S0 = N - I0\n",
    "    R0 = 0\n",
    "    D0 = 0\n",
    "    y0 = [S0, I0, R0, D0]\n",
    "\n",
    "    t = np.linspace(0, days, days)\n",
    "    sol = odeint(sird_model,  y0, t, args=(beta, gamma, mu))\n",
    "    S, I, R, D = sol.T\n",
    "    return t,S,I,R,D\n",
    "\n",
    "\n",
    "def analyze_recovery_rates(beta, mu, N, I0, simulation_days):\n",
    "    \"\"\"\n",
    "    Analyze epidemic outcomes for different recovery rates.\n",
    "\n",
    "    Parameters:\n",
    "    -----------\n",
    "    beta : float\n",
    "        Transmission rate\n",
    "    mu : float  \n",
    "        Mortality rate\n",
    "    N : int\n",
    "        Total population\n",
    "    I0 : int\n",
    "        Initial infected individuals\n",
    "    simulation_days : int\n",
    "        Simulation duration in days\n",
    "\n",
    "    Returns:\n",
    "    --------\n",
    "    pandas.DataFrame\n",
    "        Results summary for each recovery rate\n",
    "    \"\"\"\n",
    "    # Your implementation here\n",
    "\n",
    "    gamma_values = [0.05, 0.1, 0.15, 0.2, 0.25]\n",
    "    res=[]\n",
    "    for gamma in gamma_values:\n",
    "        t,S,I,R,D = run_sird_simulation(beta, gamma, mu, N, I0, simulation_days)\n",
    "        peak_infected=int(np.max(I))\n",
    "        peak_day=int(np.argmax(I))\n",
    "        total_deaths=int(D[-1])\n",
    "        R0=beta/gamma\n",
    "\n",
    "        res.append({\n",
    "            \"gamma\" :gamma,\n",
    "            \"R0\": R0,\n",
    "            \"peak_infected\": peak_infected,\n",
    "            \"peak_day\": peak_day,\n",
    "            \"total_deaths\": total_deaths\n",
    "            \n",
    "        })\n",
    "    return pd.DataFrame(res)\n",
    "\n"
   ]
  },
  {
   "cell_type": "code",
   "execution_count": 9,
   "id": "fcf01a8c",
   "metadata": {},
   "outputs": [
    {
     "name": "stdout",
     "output_type": "stream",
     "text": [
      "   gamma   R0  peak_infected  peak_day  total_deaths\n",
      "0   0.05  6.0            479        25           165\n",
      "1   0.10  3.0            269        27            83\n",
      "2   0.15  2.0            136        30            47\n",
      "3   0.20  1.5             57        33            26\n",
      "4   0.25  1.2             18        29            11\n"
     ]
    }
   ],
   "source": [
    "df =analyze_recovery_rates(beta=0.3, mu=0.01, N =1000, I0=10, simulation_days=150 )\n",
    "print(df)"
   ]
  },
  {
   "cell_type": "markdown",
   "id": "faed7a11",
   "metadata": {},
   "source": [
    "1.2 Requirements\n",
    "\n",
    "    Test recovery rates: gamma_values = [0.05, 0.1, 0.15, 0.2, 0.25]\n",
    "    For each γ value, calculate:\n",
    "        Peak number of infectious individuals\n",
    "        Day when peak occurs\n",
    "        Total deaths at end of simulation\n",
    "        Basic reproduction number (R₀ = β/γ)\n",
    "    Return results as a formatted pandas DataFrame\n",
    "    Generate a publication-quality plot showing all epidemic curves\n",
    "\n",
    "1.3 Expected output format\n",
    "\n",
    "Your function should produce:\n",
    "\n",
    "    A DataFrame with columns: ['gamma', 'R0', 'peak_infected', 'peak_day', 'total_deaths']\n",
    "    A matplotlib figure with properly labeled axes, legend, and title\n"
   ]
  }
 ],
 "metadata": {
  "kernelspec": {
   "display_name": "base",
   "language": "python",
   "name": "python3"
  },
  "language_info": {
   "codemirror_mode": {
    "name": "ipython",
    "version": 3
   },
   "file_extension": ".py",
   "mimetype": "text/x-python",
   "name": "python",
   "nbconvert_exporter": "python",
   "pygments_lexer": "ipython3",
   "version": "3.12.7"
  }
 },
 "nbformat": 4,
 "nbformat_minor": 5
}
